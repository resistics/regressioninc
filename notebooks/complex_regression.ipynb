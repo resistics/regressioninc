{
 "cells": [
  {
   "attachments": {},
   "cell_type": "markdown",
   "metadata": {},
   "source": [
    "Scipy least squares does appear to work correctly for complex-valued data"
   ]
  },
  {
   "cell_type": "code",
   "execution_count": 1,
   "metadata": {},
   "outputs": [],
   "source": [
    "import numpy as np\n",
    "from regressioninc.testing.complex import ComplexGrid, generate_linear_grid\n",
    "from regressioninc.testing.complex import add_gaussian_noise\n",
    "from regressioninc.linear.models import add_intercept, OLS, WLS, M_estimate\n",
    "from scipy.linalg import lstsq\n",
    "\n",
    "np.random.seed(42)\n",
    "\n",
    "coef = np.array([0.5 + 2j, -3 - 1j])\n",
    "grid_r1 = ComplexGrid(r1=0, r2=10, nr=11, i1=-5, i2=5, ni=11)\n",
    "grid_r2 = ComplexGrid(r1=-25, r2=-5, nr=11, i1=-5, i2=5, ni=11)\n",
    "X, y = generate_linear_grid(coef, [grid_r1, grid_r2], intercept=20 + 20j)\n",
    "X = add_intercept(X)\n",
    "y = add_gaussian_noise(y, loc=(0, 0), scale=(3, 3))\n"
   ]
  },
  {
   "cell_type": "markdown",
   "metadata": {},
   "source": [
    "Ordinary least squares"
   ]
  },
  {
   "cell_type": "code",
   "execution_count": 2,
   "metadata": {},
   "outputs": [
    {
     "name": "stdout",
     "output_type": "stream",
     "text": [
      "[ 0.41604037 +1.96401532j -2.949279   -0.95532859j\n",
      " 21.07277407+20.94281445j]\n"
     ]
    }
   ],
   "source": [
    "model = OLS()\n",
    "model.fit(X, y)\n",
    "print(model.coef_)"
   ]
  },
  {
   "cell_type": "code",
   "execution_count": 3,
   "metadata": {},
   "outputs": [
    {
     "name": "stdout",
     "output_type": "stream",
     "text": [
      "[ 0.41604037 +1.96401532j -2.949279   -0.95532859j\n",
      " 21.07277407+20.94281445j]\n",
      "331.1465809903866\n"
     ]
    }
   ],
   "source": [
    "coef, residues, rank, s = lstsq(X, y)\n",
    "print(coef)\n",
    "print(residues)"
   ]
  },
  {
   "cell_type": "markdown",
   "metadata": {},
   "source": [
    "Weighted least squares"
   ]
  },
  {
   "cell_type": "code",
   "execution_count": 4,
   "metadata": {},
   "outputs": [
    {
     "name": "stdout",
     "output_type": "stream",
     "text": [
      "[ 0.41604037 +1.96401532j -2.949279   -0.95532859j\n",
      " 21.07277407+20.94281445j]\n"
     ]
    }
   ],
   "source": [
    "weights = np.ones_like(y, dtype=float)\n",
    "model = WLS()\n",
    "model.fit(X, y, sample_weight=weights)\n",
    "print(model.coef_)"
   ]
  },
  {
   "cell_type": "markdown",
   "metadata": {},
   "source": [
    "M estimate robust regression"
   ]
  },
  {
   "cell_type": "code",
   "execution_count": 5,
   "metadata": {},
   "outputs": [
    {
     "name": "stdout",
     "output_type": "stream",
     "text": [
      "[ 0.41604037 +1.96401532j -2.949279   -0.95532859j\n",
      " 21.07277407+20.94281445j]\n",
      "[ 0.41604037 +1.96401532j -2.949279   -0.95532859j\n",
      " 21.07277407+20.94281445j]\n"
     ]
    }
   ],
   "source": [
    "import statsmodels.api as sm\n",
    "\n",
    "M1 = sm.robust.norms.TukeyBiweight()\n",
    "M2 = sm.robust.norms.TrimmedMean()\n",
    "model = M_estimate(warm_start=True)\n",
    "model.fit(X, y, M=M1)\n",
    "print(model.coef_)\n",
    "model.fit(X, y, M=M2)\n",
    "print(model.coef_)\n",
    "# try running \n",
    "\n"
   ]
  },
  {
   "cell_type": "markdown",
   "metadata": {},
   "source": [
    "Use Statsmodels to compare to MM estimates, which is a two phase M estimate\n",
    "Statsmodels does an explicit conversion to double when taking initial parameters into M estimate, so technically it starts with a different initial"
   ]
  },
  {
   "cell_type": "code",
   "execution_count": 6,
   "metadata": {},
   "outputs": [
    {
     "name": "stdout",
     "output_type": "stream",
     "text": [
      "[ 0.4099553  +1.97897227j -2.94154042 -0.95310358j\n",
      " 21.27637251+20.95118014j]\n",
      "[ 0.39055873 +1.99466348j -2.92703813 -0.96725836j\n",
      " 21.382982  +20.57036503j]\n"
     ]
    },
    {
     "name": "stderr",
     "output_type": "stream",
     "text": [
      "/home/ringo_dingo/.cache/pypoetry/virtualenvs/regressioninc-B1eGejHw-py3.10/lib/python3.10/site-packages/numpy/core/_asarray.py:130: ComplexWarning: Casting complex values to real discards the imaginary part\n",
      "  arr = array(a, dtype=dtype, order=order, copy=False, subok=subok)\n",
      "/home/ringo_dingo/.cache/pypoetry/virtualenvs/regressioninc-B1eGejHw-py3.10/lib/python3.10/site-packages/statsmodels/base/model.py:130: ValueWarning: unknown kwargs ['start_params']\n",
      "  warnings.warn(msg, ValueWarning)\n"
     ]
    }
   ],
   "source": [
    "import statsmodels.api as sm\n",
    "\n",
    "rlm = sm.RLM(y, X, M=sm.robust.norms.TukeyBiweight())\n",
    "rlm_result = rlm.fit(maxiter=50, tol=1e-8, scale_est=\"mad\", conv=\"sresid\")\n",
    "print(rlm_result.params)\n",
    "\n",
    "rlm = sm.RLM(y, X, M=sm.robust.norms.TrimmedMean(), start_params=rlm_result.params)\n",
    "rlm_result = rlm.fit(maxiter=50, tol=1e-8, scale_est=\"mad\", conv=\"sresid\")\n",
    "print(rlm_result.params)"
   ]
  }
 ],
 "metadata": {
  "kernelspec": {
   "display_name": "regressioninc-B1eGejHw-py3.10",
   "language": "python",
   "name": "python3"
  },
  "language_info": {
   "codemirror_mode": {
    "name": "ipython",
    "version": 3
   },
   "file_extension": ".py",
   "mimetype": "text/x-python",
   "name": "python",
   "nbconvert_exporter": "python",
   "pygments_lexer": "ipython3",
   "version": "3.10.6"
  },
  "orig_nbformat": 4
 },
 "nbformat": 4,
 "nbformat_minor": 2
}
