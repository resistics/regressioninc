{
 "cells": [
  {
   "cell_type": "code",
   "execution_count": 1,
   "metadata": {},
   "outputs": [],
   "source": [
    "import numpy as np\n",
    "from regressioninc.testing.complex import ComplexGrid, generate_linear_grid\n",
    "from regressioninc.testing.complex import add_gaussian_noise\n",
    "from regressioninc.linear.models import add_intercept\n",
    "\n",
    "np.random.seed(42)\n",
    "ADD_NOISE = True\n",
    "\n",
    "params = np.array([0.5 + 2j, -3 - 1j])\n",
    "intercept = 20 + 20j\n",
    "grid_r1 = ComplexGrid(r1=0, r2=10, nr=11, i1=-5, i2=5, ni=11)\n",
    "grid_r2 = ComplexGrid(r1=-25, r2=-5, nr=11, i1=-5, i2=5, ni=11)\n",
    "X, y = generate_linear_grid(params, [grid_r1, grid_r2], intercept=intercept)\n",
    "X = add_intercept(X)\n",
    "if ADD_NOISE:\n",
    "    y = add_gaussian_noise(y, loc=(0, 0), scale=(3, 3))"
   ]
  },
  {
   "cell_type": "code",
   "execution_count": 7,
   "metadata": {},
   "outputs": [
    {
     "name": "stdout",
     "output_type": "stream",
     "text": [
      "{'params': [(0.4160403746367121+1.9640153187867986j), (-2.9492790006219565-0.9553285910673246j), (21.07277406521615+20.942814452158323j)], 'residues': 331.1465809903866, 'rank': 3, 'singular_values': [185.49183024898247, 66.57791930491874, 1.0777624554615883]}\n",
      "{'params': array([ 0.41604037 +1.96401532j, -2.949279   -0.95532859j,\n",
      "       21.07277407+20.94281445j]), 'residues': 331.1465809903866, 'rank': 3, 'singular_values': array([185.49183025,  66.5779193 ,   1.07776246])}\n"
     ]
    }
   ],
   "source": [
    "from regressioninc.linear.models import OLS\n",
    "\n",
    "model = OLS()\n",
    "model.fit(X, y)\n",
    "model.estimate\n",
    "dump = model.estimate.model_dump(mode=\"json\")\n",
    "print(dump)\n",
    "print(dict(model.estimate))"
   ]
  }
 ],
 "metadata": {
  "kernelspec": {
   "display_name": "regressioninc-B1eGejHw-py3.10",
   "language": "python",
   "name": "python3"
  },
  "language_info": {
   "codemirror_mode": {
    "name": "ipython",
    "version": 3
   },
   "file_extension": ".py",
   "mimetype": "text/x-python",
   "name": "python",
   "nbconvert_exporter": "python",
   "pygments_lexer": "ipython3",
   "version": "3.10.6"
  },
  "orig_nbformat": 4
 },
 "nbformat": 4,
 "nbformat_minor": 2
}
