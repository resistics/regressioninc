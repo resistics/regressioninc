{
 "cells": [
  {
   "cell_type": "code",
   "execution_count": null,
   "metadata": {},
   "outputs": [],
   "source": [
    "import numpy as np\n",
    "from regressioninc.testing.complex import ComplexGrid, add_gaussian_noise\n",
    "from regressioninc.math import geometric_median\n",
    "import matplotlib.pyplot as plt\n",
    "\n",
    "grid = ComplexGrid(r1=-1, r2=1, nr=3, i1=-1, i2=1, ni=3)\n",
    "pts = grid.flat_grid()\n",
    "print(pts.shape)\n",
    "median = geometric_median(pts)\n",
    "\n",
    "plt.figure()\n",
    "plt.scatter(pts.real, pts.imag)\n",
    "plt.scatter(median.real, median.imag, c=\"r\")\n",
    "\n",
    "\n",
    "\n"
   ]
  },
  {
   "cell_type": "code",
   "execution_count": null,
   "metadata": {},
   "outputs": [],
   "source": [
    "noisy_pts = add_gaussian_noise(np.squeeze(pts), [0, 0], [0.5, 0.5]) \n",
    "print(noisy_pts.shape)\n",
    "median = geometric_median(noisy_pts)\n",
    "\n",
    "plt.figure()\n",
    "plt.scatter(noisy_pts.real, noisy_pts.imag)\n",
    "plt.scatter(median.real, median.imag, c=\"r\")"
   ]
  },
  {
   "cell_type": "code",
   "execution_count": 16,
   "metadata": {},
   "outputs": [
    {
     "name": "stdout",
     "output_type": "stream",
     "text": [
      "(2.9617769034978974-1.9882210431738532j)\n"
     ]
    },
    {
     "data": {
      "image/png": "[encoded data removed]",
      "text/plain": [
       "<Figure size 640x480 with 1 Axes>"
      ]
     },
     "metadata": {},
     "output_type": "display_data"
    }
   ],
   "source": [
    "import matplotlib.pyplot as plt\n",
    "import numpy as np\n",
    "from regressioninc.math import geometric_median\n",
    "arr = np.array([3 - 2j, -4 - 9j, 2 + 1j, -3 + 6j])\n",
    "med = geometric_median(arr)\n",
    "print(med)\n",
    "plt.scatter(arr.real, arr.imag, c=\"b\", marker=\"x\") # doctest: +SKIP\n",
    "plt.scatter(med.real, med.imag, c=\"r\", marker=\"o\") # doctest: +SKIP\n",
    "plt.tight_layout() # doctest: +SKIP\n",
    "plt.show() # doctest: +SKIP"
   ]
  }
 ],
 "metadata": {
  "kernelspec": {
   "display_name": "regressioninc-B1eGejHw-py3.10",
   "language": "python",
   "name": "python3"
  },
  "language_info": {
   "codemirror_mode": {
    "name": "ipython",
    "version": 3
   },
   "file_extension": ".py",
   "mimetype": "text/x-python",
   "name": "python",
   "nbconvert_exporter": "python",
   "pygments_lexer": "ipython3",
   "version": "3.10.6"
  },
  "orig_nbformat": 4
 },
 "nbformat": 4,
 "nbformat_minor": 2
}
